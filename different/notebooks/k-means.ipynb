{
 "cells": [
  {
   "cell_type": "markdown",
   "metadata": {},
   "source": [
    "# Unsupervised Learning (K-Mean Algorythm)"
   ]
  },
  {
   "cell_type": "code",
   "execution_count": 2,
   "metadata": {
    "collapsed": true
   },
   "outputs": [],
   "source": [
    "import pandas as pd                 # pandas is a dataframe library\n",
    "import matplotlib.pyplot as plt     # matplotlib.pyplot plots data\n",
    "import numpy as np                  # numpy provides N-dim object support\n",
    "from mpl_toolkits.mplot3d import Axes3D\n",
    "\n",
    "# do ploting inline instead of in a separate window\n",
    "%matplotlib inline"
   ]
  },
  {
   "cell_type": "code",
   "execution_count": 34,
   "metadata": {
    "collapsed": false
   },
   "outputs": [],
   "source": [
    "def findClosestCentroids(X, centroids):\n",
    "    m = X.shape[0]\n",
    "    K = centroids.shape[0]\n",
    "    idx = [0] * m\n",
    "    \n",
    "    for i in range(m):\n",
    "        min_norm = np.sum((X[i, :] - centroids[0, :])**2)\n",
    "        idx[i] = 0; \n",
    "        for j in range(K):\n",
    "            next_norm = np.sum((X[i, :].T - centroids[j, :].T)**2)\n",
    "            if next_norm < min_norm:\n",
    "                idx[i] = j;\n",
    "                min_norm = next_norm;\n",
    "                \n",
    "    return np.array([idx]).T"
   ]
  },
  {
   "cell_type": "code",
   "execution_count": 35,
   "metadata": {
    "collapsed": false
   },
   "outputs": [],
   "source": [
    "def computeCentroids(X, idx, K):\n",
    "    n = X.shape[1]\n",
    "    centroids = np.zeros((K, n))\n",
    "    idx = np.array([idx])\n",
    "    np.where(x == 2, 1, 0)\n",
    "    for i in range(K):\n",
    "        idx_bin = np.where(idx == i, 1, 0)\n",
    "        centroids[i, :] = (np.dot(X.T, idx_bin)).T / np.sum(idx_bin)\n",
    "    \n",
    "    return centroids"
   ]
  },
  {
   "cell_type": "code",
   "execution_count": 36,
   "metadata": {
    "collapsed": false
   },
   "outputs": [
    {
     "data": {
      "text/html": [
       "<div>\n",
       "<table border=\"1\" class=\"dataframe\">\n",
       "  <thead>\n",
       "    <tr style=\"text-align: right;\">\n",
       "      <th></th>\n",
       "      <th>0</th>\n",
       "      <th>1</th>\n",
       "    </tr>\n",
       "  </thead>\n",
       "  <tbody>\n",
       "    <tr>\n",
       "      <th>0</th>\n",
       "      <td>1.84208</td>\n",
       "      <td>4.60757</td>\n",
       "    </tr>\n",
       "    <tr>\n",
       "      <th>1</th>\n",
       "      <td>5.65858</td>\n",
       "      <td>4.79996</td>\n",
       "    </tr>\n",
       "    <tr>\n",
       "      <th>2</th>\n",
       "      <td>6.35258</td>\n",
       "      <td>3.29085</td>\n",
       "    </tr>\n",
       "    <tr>\n",
       "      <th>3</th>\n",
       "      <td>2.90402</td>\n",
       "      <td>4.61220</td>\n",
       "    </tr>\n",
       "    <tr>\n",
       "      <th>4</th>\n",
       "      <td>3.23198</td>\n",
       "      <td>4.93989</td>\n",
       "    </tr>\n",
       "  </tbody>\n",
       "</table>\n",
       "</div>"
      ],
      "text/plain": [
       "         0        1\n",
       "0  1.84208  4.60757\n",
       "1  5.65858  4.79996\n",
       "2  6.35258  3.29085\n",
       "3  2.90402  4.61220\n",
       "4  3.23198  4.93989"
      ]
     },
     "execution_count": 36,
     "metadata": {},
     "output_type": "execute_result"
    }
   ],
   "source": [
    "data = pd.read_csv('./data/data-for-clustering.txt', header=None)\n",
    "data.head(5)"
   ]
  },
  {
   "cell_type": "code",
   "execution_count": 37,
   "metadata": {
    "collapsed": false
   },
   "outputs": [
    {
     "data": {
      "text/html": [
       "<div>\n",
       "<table border=\"1\" class=\"dataframe\">\n",
       "  <thead>\n",
       "    <tr style=\"text-align: right;\">\n",
       "      <th></th>\n",
       "      <th>0</th>\n",
       "      <th>1</th>\n",
       "    </tr>\n",
       "  </thead>\n",
       "  <tbody>\n",
       "    <tr>\n",
       "      <th>295</th>\n",
       "      <td>7.30279</td>\n",
       "      <td>3.38016</td>\n",
       "    </tr>\n",
       "    <tr>\n",
       "      <th>296</th>\n",
       "      <td>6.99198</td>\n",
       "      <td>2.98707</td>\n",
       "    </tr>\n",
       "    <tr>\n",
       "      <th>297</th>\n",
       "      <td>4.82553</td>\n",
       "      <td>2.77962</td>\n",
       "    </tr>\n",
       "    <tr>\n",
       "      <th>298</th>\n",
       "      <td>6.11768</td>\n",
       "      <td>2.85476</td>\n",
       "    </tr>\n",
       "    <tr>\n",
       "      <th>299</th>\n",
       "      <td>0.94049</td>\n",
       "      <td>5.71557</td>\n",
       "    </tr>\n",
       "  </tbody>\n",
       "</table>\n",
       "</div>"
      ],
      "text/plain": [
       "           0        1\n",
       "295  7.30279  3.38016\n",
       "296  6.99198  2.98707\n",
       "297  4.82553  2.77962\n",
       "298  6.11768  2.85476\n",
       "299  0.94049  5.71557"
      ]
     },
     "execution_count": 37,
     "metadata": {},
     "output_type": "execute_result"
    }
   ],
   "source": [
    "data.tail(5)"
   ]
  },
  {
   "cell_type": "code",
   "execution_count": 52,
   "metadata": {
    "collapsed": false
   },
   "outputs": [
    {
     "data": {
      "image/png": "[encoded data removed]",
      "text/plain": [
       "<matplotlib.figure.Figure at 0x11320e438>"
      ]
     },
     "metadata": {},
     "output_type": "display_data"
    }
   ],
   "source": [
    "plt.figure()\n",
    "plt.plot(data[0].values, data[1].values, 'rx')\n",
    "plt.show()"
   ]
  },
  {
   "cell_type": "code",
   "execution_count": 49,
   "metadata": {
    "collapsed": false
   },
   "outputs": [],
   "source": [
    "initial_centroids = np.array([[3, 3], [6, 2], [8, 5]])\n",
    "\n",
    "idx = findClosestCentroids(np.array(data), initial_centroids)\n",
    "centroids = computeCentroids(np.array(data), idx, 3);"
   ]
  },
  {
   "cell_type": "code",
   "execution_count": 50,
   "metadata": {
    "collapsed": false
   },
   "outputs": [
    {
     "data": {
      "text/plain": [
       "array([[ 2.42830089,  3.15792429],\n",
       "       [ 5.8135032 ,  2.63365641],\n",
       "       [ 7.11938667,  3.61668167]])"
      ]
     },
     "execution_count": 50,
     "metadata": {},
     "output_type": "execute_result"
    }
   ],
   "source": [
    "centroids"
   ]
  },
  {
   "cell_type": "code",
   "execution_count": 53,
   "metadata": {
    "collapsed": true
   },
   "outputs": [],
   "source": [
    "def runkMeans(X, initial_centroids, max_iters):\n",
    "    centroids = initial_centroids\n",
    "    K = initial_centroids.shape[0]\n",
    "    for i in range(1, max_iters + 1):\n",
    "        idx = findClosestCentroids(X, centroids)\n",
    "        centroids = computeCentroids(X, idx, K);\n",
    "        \n",
    "    return centroids, idx"
   ]
  },
  {
   "cell_type": "code",
   "execution_count": 54,
   "metadata": {
    "collapsed": true
   },
   "outputs": [],
   "source": [
    "initial_centroids = np.array([[3, 3], [6, 2], [8, 5]])\n",
    "result_centroids, result_idx = runkMeans(np.array(data), initial_centroids, 100)"
   ]
  },
  {
   "cell_type": "code",
   "execution_count": 79,
   "metadata": {
    "collapsed": false
   },
   "outputs": [
    {
     "data": {
      "image/png": "[encoded data removed]",
      "text/plain": [
       "<matplotlib.figure.Figure at 0x11324a080>"
      ]
     },
     "metadata": {},
     "output_type": "display_data"
    }
   ],
   "source": [
    "def selectClusterEntries(X, idx, k_num):\n",
    "    result = X\n",
    "    for i in reversed(range(idx.shape[0])):\n",
    "        if idx[i, 0] != k_num:\n",
    "            result = np.delete(result, i, 0)\n",
    "            \n",
    "    return result\n",
    "\n",
    "zero_cluster = selectClusterEntries(np.array(data), result_idx, 0)\n",
    "first_cluster = selectClusterEntries(np.array(data), result_idx, 1)\n",
    "second_cluster = selectClusterEntries(np.array(data), result_idx, 2)\n",
    "            \n",
    "m, n = data.shape\n",
    "# print(zero_cluster.shape[0] + first_cluster.shape[0] + second_cluster.shape[0])\n",
    "\n",
    "plt.figure()\n",
    "plt.plot(zero_cluster[:, 0], zero_cluster[:, 1], 'rx')\n",
    "plt.plot(result_centroids[:, 0], result_centroids[:, 1], 'bo', linewidth=2)\n",
    "plt.plot(first_cluster[:, 0], first_cluster[:, 1], 'bx')\n",
    "plt.plot(second_cluster[:, 0], second_cluster[:, 1], 'gx')\n",
    "plt.show()"
   ]
  },
  {
   "cell_type": "code",
   "execution_count": null,
   "metadata": {
    "collapsed": true
   },
   "outputs": [],
   "source": []
  }
 ],
 "metadata": {
  "anaconda-cloud": {},
  "kernelspec": {
   "display_name": "Python [default]",
   "language": "python",
   "name": "python3"
  },
  "language_info": {
   "codemirror_mode": {
    "name": "ipython",
    "version": 3
   },
   "file_extension": ".py",
   "mimetype": "text/x-python",
   "name": "python",
   "nbconvert_exporter": "python",
   "pygments_lexer": "ipython3",
   "version": "3.5.2"
  }
 },
 "nbformat": 4,
 "nbformat_minor": 1
}
