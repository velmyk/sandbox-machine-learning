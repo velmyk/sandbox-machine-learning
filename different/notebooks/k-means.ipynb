{
 "cells": [
  {
   "cell_type": "markdown",
   "metadata": {},
   "source": [
    "# Unsupervised Learning (K-Mean Algorythm)"
   ]
  },
  {
   "cell_type": "code",
   "execution_count": 1,
   "metadata": {
    "collapsed": true
   },
   "outputs": [],
   "source": [
    "import pandas as pd                 # pandas is a dataframe library\n",
    "import matplotlib.pyplot as plt     # matplotlib.pyplot plots data\n",
    "import numpy as np                  # numpy provides N-dim object support\n",
    "import math\n",
    "from scipy import misc\n",
    "\n",
    "# do ploting inline instead of in a separate window\n",
    "%matplotlib inline"
   ]
  },
  {
   "cell_type": "code",
   "execution_count": 2,
   "metadata": {
    "collapsed": false
   },
   "outputs": [
    {
     "data": {
      "application/json": {
       "Software versions": [
        {
         "module": "Python",
         "version": "3.5.2 64bit [GCC 4.2.1 Compatible Apple LLVM 4.2 (clang-425.0.28)]"
        },
        {
         "module": "IPython",
         "version": "5.1.0"
        },
        {
         "module": "OS",
         "version": "Darwin 16.4.0 x86_64 i386 64bit"
        },
        {
         "module": "numpy",
         "version": "1.11.1"
        },
        {
         "module": "scipy",
         "version": "0.18.1"
        },
        {
         "module": "matplotlib",
         "version": "1.5.3"
        }
       ]
      },
      "text/html": [
       "<table><tr><th>Software</th><th>Version</th></tr><tr><td>Python</td><td>3.5.2 64bit [GCC 4.2.1 Compatible Apple LLVM 4.2 (clang-425.0.28)]</td></tr><tr><td>IPython</td><td>5.1.0</td></tr><tr><td>OS</td><td>Darwin 16.4.0 x86_64 i386 64bit</td></tr><tr><td>numpy</td><td>1.11.1</td></tr><tr><td>scipy</td><td>0.18.1</td></tr><tr><td>matplotlib</td><td>1.5.3</td></tr><tr><td colspan='2'>Mon Feb 20 10:51:01 2017 EET</td></tr></table>"
      ],
      "text/latex": [
       "\\begin{tabular}{|l|l|}\\hline\n",
       "{\\bf Software} & {\\bf Version} \\\\ \\hline\\hline\n",
       "Python & 3.5.2 64bit [GCC 4.2.1 Compatible Apple LLVM 4.2 (clang-425.0.28)] \\\\ \\hline\n",
       "IPython & 5.1.0 \\\\ \\hline\n",
       "OS & Darwin 16.4.0 x86\\_64 i386 64bit \\\\ \\hline\n",
       "numpy & 1.11.1 \\\\ \\hline\n",
       "scipy & 0.18.1 \\\\ \\hline\n",
       "matplotlib & 1.5.3 \\\\ \\hline\n",
       "\\hline \\multicolumn{2}{|l|}{Mon Feb 20 10:51:01 2017 EET} \\\\ \\hline\n",
       "\\end{tabular}\n"
      ],
      "text/plain": [
       "Software versions\n",
       "Python 3.5.2 64bit [GCC 4.2.1 Compatible Apple LLVM 4.2 (clang-425.0.28)]\n",
       "IPython 5.1.0\n",
       "OS Darwin 16.4.0 x86_64 i386 64bit\n",
       "numpy 1.11.1\n",
       "scipy 0.18.1\n",
       "matplotlib 1.5.3\n",
       "Mon Feb 20 10:51:01 2017 EET"
      ]
     },
     "execution_count": 2,
     "metadata": {},
     "output_type": "execute_result"
    }
   ],
   "source": [
    "%reload_ext version_information\n",
    "%version_information numpy, scipy, matplotlib"
   ]
  },
  {
   "cell_type": "code",
   "execution_count": 3,
   "metadata": {
    "collapsed": false
   },
   "outputs": [
    {
     "data": {
      "text/html": [
       "<div>\n",
       "<table border=\"1\" class=\"dataframe\">\n",
       "  <thead>\n",
       "    <tr style=\"text-align: right;\">\n",
       "      <th></th>\n",
       "      <th>0</th>\n",
       "      <th>1</th>\n",
       "    </tr>\n",
       "  </thead>\n",
       "  <tbody>\n",
       "    <tr>\n",
       "      <th>0</th>\n",
       "      <td>1.84208</td>\n",
       "      <td>4.60757</td>\n",
       "    </tr>\n",
       "    <tr>\n",
       "      <th>1</th>\n",
       "      <td>5.65858</td>\n",
       "      <td>4.79996</td>\n",
       "    </tr>\n",
       "    <tr>\n",
       "      <th>2</th>\n",
       "      <td>6.35258</td>\n",
       "      <td>3.29085</td>\n",
       "    </tr>\n",
       "    <tr>\n",
       "      <th>3</th>\n",
       "      <td>2.90402</td>\n",
       "      <td>4.61220</td>\n",
       "    </tr>\n",
       "    <tr>\n",
       "      <th>4</th>\n",
       "      <td>3.23198</td>\n",
       "      <td>4.93989</td>\n",
       "    </tr>\n",
       "  </tbody>\n",
       "</table>\n",
       "</div>"
      ],
      "text/plain": [
       "         0        1\n",
       "0  1.84208  4.60757\n",
       "1  5.65858  4.79996\n",
       "2  6.35258  3.29085\n",
       "3  2.90402  4.61220\n",
       "4  3.23198  4.93989"
      ]
     },
     "execution_count": 3,
     "metadata": {},
     "output_type": "execute_result"
    }
   ],
   "source": [
    "data = pd.read_csv('./data/data-for-clustering.txt', header=None)\n",
    "data.head(5)"
   ]
  },
  {
   "cell_type": "code",
   "execution_count": 4,
   "metadata": {
    "collapsed": false
   },
   "outputs": [
    {
     "data": {
      "text/html": [
       "<div>\n",
       "<table border=\"1\" class=\"dataframe\">\n",
       "  <thead>\n",
       "    <tr style=\"text-align: right;\">\n",
       "      <th></th>\n",
       "      <th>0</th>\n",
       "      <th>1</th>\n",
       "    </tr>\n",
       "  </thead>\n",
       "  <tbody>\n",
       "    <tr>\n",
       "      <th>295</th>\n",
       "      <td>7.30279</td>\n",
       "      <td>3.38016</td>\n",
       "    </tr>\n",
       "    <tr>\n",
       "      <th>296</th>\n",
       "      <td>6.99198</td>\n",
       "      <td>2.98707</td>\n",
       "    </tr>\n",
       "    <tr>\n",
       "      <th>297</th>\n",
       "      <td>4.82553</td>\n",
       "      <td>2.77962</td>\n",
       "    </tr>\n",
       "    <tr>\n",
       "      <th>298</th>\n",
       "      <td>6.11768</td>\n",
       "      <td>2.85476</td>\n",
       "    </tr>\n",
       "    <tr>\n",
       "      <th>299</th>\n",
       "      <td>0.94049</td>\n",
       "      <td>5.71557</td>\n",
       "    </tr>\n",
       "  </tbody>\n",
       "</table>\n",
       "</div>"
      ],
      "text/plain": [
       "           0        1\n",
       "295  7.30279  3.38016\n",
       "296  6.99198  2.98707\n",
       "297  4.82553  2.77962\n",
       "298  6.11768  2.85476\n",
       "299  0.94049  5.71557"
      ]
     },
     "execution_count": 4,
     "metadata": {},
     "output_type": "execute_result"
    }
   ],
   "source": [
    "data.tail(5)"
   ]
  },
  {
   "cell_type": "code",
   "execution_count": 5,
   "metadata": {
    "collapsed": false
   },
   "outputs": [
    {
     "data": {
      "image/png": "[encoded data removed]",
      "text/plain": [
       "<matplotlib.figure.Figure at 0x11473b978>"
      ]
     },
     "metadata": {},
     "output_type": "display_data"
    }
   ],
   "source": [
    "plt.figure()\n",
    "plt.plot(data[0].values, data[1].values, 'rx')\n",
    "plt.show()"
   ]
  },
  {
   "cell_type": "code",
   "execution_count": 6,
   "metadata": {
    "collapsed": false
   },
   "outputs": [],
   "source": [
    "def computeCentroids(X, idx, K):\n",
    "    n = X.shape[1]\n",
    "    centroids = np.zeros((K, n))\n",
    "    idx = np.array([idx])\n",
    "    np.where(X == 2, 1, 0)\n",
    "    for i in range(K):\n",
    "        idx_bin = np.where(idx == i, 1, 0)\n",
    "        centroids[i, :] = (np.dot(X.T, idx_bin)).T / np.sum(idx_bin)\n",
    "    \n",
    "    return centroids"
   ]
  },
  {
   "cell_type": "code",
   "execution_count": 7,
   "metadata": {
    "collapsed": false
   },
   "outputs": [],
   "source": [
    "def findClosestCentroids(X, centroids):\n",
    "    m = X.shape[0]\n",
    "    K = centroids.shape[0]\n",
    "    idx = [0] * m\n",
    "    \n",
    "    for i in range(m):\n",
    "        min_norm = np.sum((X[i, :] - centroids[0, :])**2)\n",
    "        idx[i] = 0; \n",
    "        for j in range(K):\n",
    "            next_norm = np.sum((X[i, :].T - centroids[j, :].T)**2)\n",
    "            if next_norm < min_norm:\n",
    "                idx[i] = j;\n",
    "                min_norm = next_norm;\n",
    "                \n",
    "    return np.array([idx]).T"
   ]
  },
  {
   "cell_type": "code",
   "execution_count": 8,
   "metadata": {
    "collapsed": true
   },
   "outputs": [],
   "source": [
    "def runkMeans(X, initial_centroids, max_iters):\n",
    "    centroids = initial_centroids\n",
    "    K = initial_centroids.shape[0]\n",
    "    for i in range(1, max_iters + 1):\n",
    "        idx = findClosestCentroids(X, centroids)\n",
    "        centroids = computeCentroids(X, idx, K);\n",
    "        \n",
    "    return centroids, idx"
   ]
  },
  {
   "cell_type": "code",
   "execution_count": 9,
   "metadata": {
    "collapsed": true
   },
   "outputs": [],
   "source": [
    "def initCentroids(X, K):\n",
    "    m = X.shape[0]\n",
    "    rand_indexes = np.random.choice(m, m - K, False)\n",
    "\n",
    "    return np.delete(X, rand_indexes, axis=0)"
   ]
  },
  {
   "cell_type": "code",
   "execution_count": 10,
   "metadata": {
    "collapsed": true
   },
   "outputs": [],
   "source": [
    "def findDistortion(X, centroids, idx):\n",
    "    m = X.shape[0]\n",
    "    centr_matrix = np.zeros(X.shape)\n",
    "    for i in range(m):\n",
    "        centr_matrix[i, :] = centroids[idx[i], :]\n",
    "    \n",
    "    return np.sum(np.subtract(X, centr_matrix) ** 2) / m\n",
    "\n",
    "def findClusters(X, K, max_iters, num_random_inits):\n",
    "    best_distortion = math.inf\n",
    "    for i in range(num_random_inits):\n",
    "        initial_centroids = initCentroids(np.array(X), K)\n",
    "        centroids, idx = runkMeans(np.array(X), initial_centroids, 100)\n",
    "        distortion = findDistortion(X, centroids, idx)\n",
    "        if distortion < best_distortion:\n",
    "            best_distortion = distortion\n",
    "            best_centroids = centroids\n",
    "            best_idx = idx\n",
    "    \n",
    "    return best_centroids, best_idx"
   ]
  },
  {
   "cell_type": "code",
   "execution_count": 11,
   "metadata": {
    "collapsed": false
   },
   "outputs": [],
   "source": [
    "result_centroids, result_idx = findClusters(np.array(data), 3, 100, 50)"
   ]
  },
  {
   "cell_type": "code",
   "execution_count": 12,
   "metadata": {
    "collapsed": false
   },
   "outputs": [
    {
     "data": {
      "image/png": "[encoded data removed]",
      "text/plain": [
       "<matplotlib.figure.Figure at 0x104872630>"
      ]
     },
     "metadata": {},
     "output_type": "display_data"
    }
   ],
   "source": [
    "def selectClusterEntries(X, idx, k_num):\n",
    "    result = X\n",
    "    for i in reversed(range(idx.shape[0])):\n",
    "        if idx[i, 0] != k_num:\n",
    "            result = np.delete(result, i, 0)\n",
    "            \n",
    "    return result\n",
    "\n",
    "zero_cluster = selectClusterEntries(np.array(data), result_idx, 0)\n",
    "first_cluster = selectClusterEntries(np.array(data), result_idx, 1)\n",
    "second_cluster = selectClusterEntries(np.array(data), result_idx, 2)\n",
    "            \n",
    "plt.figure()\n",
    "plt.plot(result_centroids[:, 0], result_centroids[:, 1], 'yo')\n",
    "plt.plot(zero_cluster[:, 0], zero_cluster[:, 1], 'rx')\n",
    "plt.plot(first_cluster[:, 0], first_cluster[:, 1], 'bx')\n",
    "plt.plot(second_cluster[:, 0], second_cluster[:, 1], 'gx')\n",
    "plt.show()"
   ]
  },
  {
   "cell_type": "markdown",
   "metadata": {},
   "source": [
    "# Image Compression"
   ]
  },
  {
   "cell_type": "code",
   "execution_count": 25,
   "metadata": {
    "collapsed": true
   },
   "outputs": [],
   "source": [
    "pixels_arr = misc.imread('./data/bird_small.png')"
   ]
  },
  {
   "cell_type": "markdown",
   "metadata": {},
   "source": [
    "Original image:\n",
    "![title](data/bird_small.png)"
   ]
  },
  {
   "cell_type": "code",
   "execution_count": 27,
   "metadata": {
    "collapsed": false
   },
   "outputs": [],
   "source": [
    "h, w, d = pixels_arr.shape\n",
    "pixels_arr_res = np.resize(pixels_arr, (h * w, d))"
   ]
  },
  {
   "cell_type": "code",
   "execution_count": 29,
   "metadata": {
    "collapsed": false
   },
   "outputs": [],
   "source": [
    "res_centroids, res_idx = findClusters(pixels_arr_res, 16, 10, 1)"
   ]
  },
  {
   "cell_type": "code",
   "execution_count": 30,
   "metadata": {
    "collapsed": true
   },
   "outputs": [],
   "source": [
    "res_centroids = np.floor(res_centroids)"
   ]
  },
  {
   "cell_type": "code",
   "execution_count": 31,
   "metadata": {
    "collapsed": true
   },
   "outputs": [],
   "source": [
    "def assignPixelsWithCentroids(X, centroids, idx):\n",
    "    result = np.zeros(X.shape)\n",
    "    for i in range(X.shape[0]):\n",
    "        result[i, :] = centroids[idx[i], :]\n",
    "        \n",
    "    return result"
   ]
  },
  {
   "cell_type": "code",
   "execution_count": 35,
   "metadata": {
    "collapsed": false
   },
   "outputs": [],
   "source": [
    "res_pixels = assignPixelsWithCentroids(pixels_arr_res, res_centroids, res_idx)\n",
    "res_pixels = np.resize(res_pixels, (128,128, 3))\n",
    "misc.imsave('data/bird_small_compressed.png', res_pixels)"
   ]
  },
  {
   "cell_type": "markdown",
   "metadata": {
    "collapsed": true
   },
   "source": [
    "Compressed image:\n",
    "![title](data/bird_small_compressed.png)"
   ]
  }
 ],
 "metadata": {
  "anaconda-cloud": {},
  "kernelspec": {
   "display_name": "Python [default]",
   "language": "python",
   "name": "python3"
  },
  "language_info": {
   "codemirror_mode": {
    "name": "ipython",
    "version": 3
   },
   "file_extension": ".py",
   "mimetype": "text/x-python",
   "name": "python",
   "nbconvert_exporter": "python",
   "pygments_lexer": "ipython3",
   "version": "3.5.2"
  }
 },
 "nbformat": 4,
 "nbformat_minor": 1
}
