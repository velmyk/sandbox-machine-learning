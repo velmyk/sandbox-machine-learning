{
 "cells": [
  {
   "cell_type": "markdown",
   "metadata": {},
   "source": [
    "TODO:\n",
    "    - perform same computations using sklearn"
   ]
  },
  {
   "cell_type": "markdown",
   "metadata": {},
   "source": [
    "### Import libraries"
   ]
  },
  {
   "cell_type": "code",
   "execution_count": 1,
   "metadata": {
    "collapsed": true
   },
   "outputs": [],
   "source": [
    "import pandas as pd                 # pandas is a dataframe library\n",
    "import matplotlib.pyplot as plt     # matplotlib.pyplot plots data\n",
    "import numpy as np                  # numpy provides N-dim object support\n",
    "from scipy.optimize import fmin_bfgs\n",
    "\n",
    "# do ploting inline instead of in a separate window\n",
    "%matplotlib inline"
   ]
  },
  {
   "cell_type": "code",
   "execution_count": 2,
   "metadata": {
    "collapsed": false
   },
   "outputs": [
    {
     "data": {
      "application/json": {
       "Software versions": [
        {
         "module": "Python",
         "version": "3.5.2 64bit [GCC 4.2.1 Compatible Apple LLVM 4.2 (clang-425.0.28)]"
        },
        {
         "module": "IPython",
         "version": "5.1.0"
        },
        {
         "module": "OS",
         "version": "Darwin 16.1.0 x86_64 i386 64bit"
        },
        {
         "module": "numpy",
         "version": "1.11.1"
        },
        {
         "module": "scipy",
         "version": "0.18.1"
        },
        {
         "module": "matplotlib",
         "version": "1.5.3"
        },
        {
         "module": "scipy",
         "version": "0.18.1"
        }
       ]
      },
      "text/html": [
       "<table><tr><th>Software</th><th>Version</th></tr><tr><td>Python</td><td>3.5.2 64bit [GCC 4.2.1 Compatible Apple LLVM 4.2 (clang-425.0.28)]</td></tr><tr><td>IPython</td><td>5.1.0</td></tr><tr><td>OS</td><td>Darwin 16.1.0 x86_64 i386 64bit</td></tr><tr><td>numpy</td><td>1.11.1</td></tr><tr><td>scipy</td><td>0.18.1</td></tr><tr><td>matplotlib</td><td>1.5.3</td></tr><tr><td>scipy</td><td>0.18.1</td></tr><tr><td colspan='2'>Thu Feb 09 10:01:15 2017 EET</td></tr></table>"
      ],
      "text/latex": [
       "\\begin{tabular}{|l|l|}\\hline\n",
       "{\\bf Software} & {\\bf Version} \\\\ \\hline\\hline\n",
       "Python & 3.5.2 64bit [GCC 4.2.1 Compatible Apple LLVM 4.2 (clang-425.0.28)] \\\\ \\hline\n",
       "IPython & 5.1.0 \\\\ \\hline\n",
       "OS & Darwin 16.1.0 x86\\_64 i386 64bit \\\\ \\hline\n",
       "numpy & 1.11.1 \\\\ \\hline\n",
       "scipy & 0.18.1 \\\\ \\hline\n",
       "matplotlib & 1.5.3 \\\\ \\hline\n",
       "scipy & 0.18.1 \\\\ \\hline\n",
       "\\hline \\multicolumn{2}{|l|}{Thu Feb 09 10:01:15 2017 EET} \\\\ \\hline\n",
       "\\end{tabular}\n"
      ],
      "text/plain": [
       "Software versions\n",
       "Python 3.5.2 64bit [GCC 4.2.1 Compatible Apple LLVM 4.2 (clang-425.0.28)]\n",
       "IPython 5.1.0\n",
       "OS Darwin 16.1.0 x86_64 i386 64bit\n",
       "numpy 1.11.1\n",
       "scipy 0.18.1\n",
       "matplotlib 1.5.3\n",
       "scipy 0.18.1\n",
       "Thu Feb 09 10:01:15 2017 EET"
      ]
     },
     "execution_count": 2,
     "metadata": {},
     "output_type": "execute_result"
    }
   ],
   "source": [
    "%reload_ext version_information\n",
    "%version_information numpy, scipy, matplotlib, scipy"
   ]
  },
  {
   "cell_type": "markdown",
   "metadata": {},
   "source": [
    "### Load data"
   ]
  },
  {
   "cell_type": "code",
   "execution_count": 3,
   "metadata": {
    "collapsed": true
   },
   "outputs": [],
   "source": [
    "data = pd.read_csv(\"./data/water_flowing(flow_level).csv\", names=['water_flow', 'water_level'], header=None)\n",
    "data['_bias'] = 1"
   ]
  },
  {
   "cell_type": "code",
   "execution_count": 4,
   "metadata": {
    "collapsed": false
   },
   "outputs": [
    {
     "data": {
      "text/plain": [
       "(54, 3)"
      ]
     },
     "execution_count": 4,
     "metadata": {},
     "output_type": "execute_result"
    }
   ],
   "source": [
    "data.shape"
   ]
  },
  {
   "cell_type": "code",
   "execution_count": 5,
   "metadata": {
    "collapsed": false
   },
   "outputs": [
    {
     "data": {
      "text/html": [
       "<div>\n",
       "<table border=\"1\" class=\"dataframe\">\n",
       "  <thead>\n",
       "    <tr style=\"text-align: right;\">\n",
       "      <th></th>\n",
       "      <th>water_flow</th>\n",
       "      <th>water_level</th>\n",
       "      <th>_bias</th>\n",
       "    </tr>\n",
       "  </thead>\n",
       "  <tbody>\n",
       "    <tr>\n",
       "      <th>0</th>\n",
       "      <td>-15.9368</td>\n",
       "      <td>2.1343</td>\n",
       "      <td>1</td>\n",
       "    </tr>\n",
       "    <tr>\n",
       "      <th>1</th>\n",
       "      <td>-29.1530</td>\n",
       "      <td>1.1733</td>\n",
       "      <td>1</td>\n",
       "    </tr>\n",
       "    <tr>\n",
       "      <th>2</th>\n",
       "      <td>36.1895</td>\n",
       "      <td>34.3591</td>\n",
       "      <td>1</td>\n",
       "    </tr>\n",
       "    <tr>\n",
       "      <th>3</th>\n",
       "      <td>37.4922</td>\n",
       "      <td>36.8380</td>\n",
       "      <td>1</td>\n",
       "    </tr>\n",
       "    <tr>\n",
       "      <th>4</th>\n",
       "      <td>-48.0588</td>\n",
       "      <td>2.8090</td>\n",
       "      <td>1</td>\n",
       "    </tr>\n",
       "  </tbody>\n",
       "</table>\n",
       "</div>"
      ],
      "text/plain": [
       "   water_flow  water_level  _bias\n",
       "0    -15.9368       2.1343      1\n",
       "1    -29.1530       1.1733      1\n",
       "2     36.1895      34.3591      1\n",
       "3     37.4922      36.8380      1\n",
       "4    -48.0588       2.8090      1"
      ]
     },
     "execution_count": 5,
     "metadata": {},
     "output_type": "execute_result"
    }
   ],
   "source": [
    "data.head(5)"
   ]
  },
  {
   "cell_type": "code",
   "execution_count": 6,
   "metadata": {
    "collapsed": false
   },
   "outputs": [
    {
     "data": {
      "text/html": [
       "<div>\n",
       "<table border=\"1\" class=\"dataframe\">\n",
       "  <thead>\n",
       "    <tr style=\"text-align: right;\">\n",
       "      <th></th>\n",
       "      <th>water_flow</th>\n",
       "      <th>water_level</th>\n",
       "      <th>_bias</th>\n",
       "    </tr>\n",
       "  </thead>\n",
       "  <tbody>\n",
       "    <tr>\n",
       "      <th>49</th>\n",
       "      <td>-23.6696</td>\n",
       "      <td>2.47735</td>\n",
       "      <td>1</td>\n",
       "    </tr>\n",
       "    <tr>\n",
       "      <th>50</th>\n",
       "      <td>-9.0118</td>\n",
       "      <td>6.56606</td>\n",
       "      <td>1</td>\n",
       "    </tr>\n",
       "    <tr>\n",
       "      <th>51</th>\n",
       "      <td>-55.9406</td>\n",
       "      <td>6.03809</td>\n",
       "      <td>1</td>\n",
       "    </tr>\n",
       "    <tr>\n",
       "      <th>52</th>\n",
       "      <td>-35.7086</td>\n",
       "      <td>4.69274</td>\n",
       "      <td>1</td>\n",
       "    </tr>\n",
       "    <tr>\n",
       "      <th>53</th>\n",
       "      <td>9.5102</td>\n",
       "      <td>10.83005</td>\n",
       "      <td>1</td>\n",
       "    </tr>\n",
       "  </tbody>\n",
       "</table>\n",
       "</div>"
      ],
      "text/plain": [
       "    water_flow  water_level  _bias\n",
       "49    -23.6696      2.47735      1\n",
       "50     -9.0118      6.56606      1\n",
       "51    -55.9406      6.03809      1\n",
       "52    -35.7086      4.69274      1\n",
       "53      9.5102     10.83005      1"
      ]
     },
     "execution_count": 6,
     "metadata": {},
     "output_type": "execute_result"
    }
   ],
   "source": [
    "data.tail(5)"
   ]
  },
  {
   "cell_type": "code",
   "execution_count": 7,
   "metadata": {
    "collapsed": false
   },
   "outputs": [],
   "source": [
    "features = data[['_bias', 'water_flow']]\n",
    "X = features[0:12]\n",
    "X_val = features[12:33]\n",
    "X_test = features[33:54]\n",
    "result = data[['water_level']]\n",
    "y = result[0:12]\n",
    "y_val = result[12:33]\n",
    "y_test = result[33:54]"
   ]
  },
  {
   "cell_type": "markdown",
   "metadata": {},
   "source": [
    "### Plot training data"
   ]
  },
  {
   "cell_type": "code",
   "execution_count": 8,
   "metadata": {
    "collapsed": false
   },
   "outputs": [
    {
     "data": {
      "image/png": "[encoded data removed]",
      "text/plain": [
       "<matplotlib.figure.Figure at 0x114699278>"
      ]
     },
     "metadata": {},
     "output_type": "display_data"
    }
   ],
   "source": [
    "plt.figure()\n",
    "plt.xlim([-60, 60])\n",
    "plt.ylim([-5, 50])\n",
    "plt.xlabel('Change in water level (x)')\n",
    "plt.ylabel('Water flowing out of the dam (y)')\n",
    "plt.plot(X['water_flow'].values, y['water_level'].values, 'rx')\n",
    "plt.show()"
   ]
  },
  {
   "cell_type": "code",
   "execution_count": 9,
   "metadata": {
    "collapsed": false
   },
   "outputs": [],
   "source": [
    "def costFunction(theta, X, y, reg_alpha):\n",
    "    theta = np.array([theta]).T\n",
    "    m = X.shape[0]\n",
    "    J = np.sum((np.dot(X, theta) - y) ** 2) / (2 * m) + np.sum(theta[1:, 0] ** 2) * reg_alpha / (2 * m)\n",
    "    return float(J)\n",
    "\n",
    "def computeGradients(theta, X, y, reg_alpha):\n",
    "    theta = np.array([theta]).T\n",
    "    m = X.shape[0]\n",
    "    grad = np.zeros(theta.shape)\n",
    "    grad = np.dot(X.T,  (np.dot(X, theta) - y)) / m\n",
    "    temp = theta\n",
    "    temp[0, 0] = 0\n",
    "    grad = grad + reg_alpha * temp / m\n",
    "    return grad.flatten()\n",
    "\n",
    "def trainLinearReg(X, y, reg_alpha):\n",
    "    initial_theta = np.zeros((X.shape[1], 1)).flatten()\n",
    "    opt_theta = fmin_bfgs(costFunction, fprime=computeGradients, x0=initial_theta, args=(X, y, reg_alpha), maxiter=50)\n",
    "    return opt_theta"
   ]
  },
  {
   "cell_type": "code",
   "execution_count": 10,
   "metadata": {
    "collapsed": false
   },
   "outputs": [
    {
     "name": "stdout",
     "output_type": "stream",
     "text": [
      "Optimization terminated successfully.\n",
      "         Current function value: 22.373896\n",
      "         Iterations: 3\n",
      "         Function evaluations: 5\n",
      "         Gradient evaluations: 5\n",
      "[ 13.08792731   0.36777906]\n"
     ]
    }
   ],
   "source": [
    "opt_theta = trainLinearReg(X, y, 0)\n",
    "print(opt_theta)"
   ]
  },
  {
   "cell_type": "code",
   "execution_count": 11,
   "metadata": {
    "collapsed": false
   },
   "outputs": [
    {
     "data": {
      "image/png": "[encoded data removed]",
      "text/plain": [
       "<matplotlib.figure.Figure at 0x1146b81d0>"
      ]
     },
     "metadata": {},
     "output_type": "display_data"
    }
   ],
   "source": [
    "plt.figure()\n",
    "plt.xlim([-60, 60])\n",
    "plt.ylim([-5, 50])\n",
    "plt.xlabel('Change in water level (x)')\n",
    "plt.ylabel('Water flowing out of the dam (y)')\n",
    "plt.plot(X['water_flow'].values, y['water_level'].values, 'rx')\n",
    "plt.plot(X[['water_flow']].values, np.dot(X, opt_theta), '-')\n",
    "plt.show()"
   ]
  },
  {
   "cell_type": "markdown",
   "metadata": {},
   "source": [
    "### Learning curves"
   ]
  },
  {
   "cell_type": "code",
   "execution_count": 12,
   "metadata": {
    "collapsed": false
   },
   "outputs": [],
   "source": [
    "def learningCurve(X, y, X_val, y_val, reg_alpha):\n",
    "    m, n = X.shape\n",
    "    error_train = [0] * m \n",
    "    error_val = [0] * m\n",
    "    for i in range(0, m):\n",
    "        theta = trainLinearReg(X[0:i], y[0:i], reg_alpha)\n",
    "        error_train[i] = costFunction(theta, X[0:i], y[0:i], 0)\n",
    "        error_val[i] = costFunction(theta, X_val, y_val, 0)\n",
    "        \n",
    "    return error_train, error_val"
   ]
  },
  {
   "cell_type": "code",
   "execution_count": 13,
   "metadata": {
    "collapsed": false
   },
   "outputs": [
    {
     "name": "stdout",
     "output_type": "stream",
     "text": [
      "Warning: Desired error not necessarily achieved due to precision loss.\n",
      "         Current function value: nan\n",
      "         Iterations: 0\n",
      "         Function evaluations: 1\n",
      "         Gradient evaluations: 1\n",
      "Optimization terminated successfully.\n",
      "         Current function value: 0.000000\n",
      "         Iterations: 1\n",
      "         Function evaluations: 3\n",
      "         Gradient evaluations: 3\n",
      "Optimization terminated successfully.\n",
      "         Current function value: 0.000000\n",
      "         Iterations: 3\n",
      "         Function evaluations: 6\n",
      "         Gradient evaluations: 6\n",
      "Optimization terminated successfully.\n",
      "         Current function value: 3.286635\n",
      "         Iterations: 3\n",
      "         Function evaluations: 5\n",
      "         Gradient evaluations: 5\n",
      "Optimization terminated successfully.\n",
      "         Current function value: 2.842715\n",
      "         Iterations: 5\n",
      "         Function evaluations: 6\n",
      "         Gradient evaluations: 6\n",
      "Optimization terminated successfully.\n",
      "         Current function value: 13.154060\n",
      "         Iterations: 3\n",
      "         Function evaluations: 5\n",
      "         Gradient evaluations: 5\n",
      "Optimization terminated successfully.\n",
      "         Current function value: 19.443941\n",
      "         Iterations: 3\n",
      "         Function evaluations: 5\n",
      "         Gradient evaluations: 5\n",
      "Optimization terminated successfully.\n",
      "         Current function value: 20.098506\n",
      "         Iterations: 3\n",
      "         Function evaluations: 5\n",
      "         Gradient evaluations: 5\n",
      "Optimization terminated successfully.\n",
      "         Current function value: 18.172846\n",
      "         Iterations: 3\n",
      "         Function evaluations: 5\n",
      "         Gradient evaluations: 5\n",
      "Optimization terminated successfully.\n",
      "         Current function value: 22.609416\n",
      "         Iterations: 3\n",
      "         Function evaluations: 5\n",
      "         Gradient evaluations: 5\n",
      "Optimization terminated successfully.\n",
      "         Current function value: 23.261467\n",
      "         Iterations: 3\n",
      "         Function evaluations: 5\n",
      "         Gradient evaluations: 5\n",
      "Optimization terminated successfully.\n",
      "         Current function value: 24.317243\n",
      "         Iterations: 3\n",
      "         Function evaluations: 5\n",
      "         Gradient evaluations: 5\n"
     ]
    }
   ],
   "source": [
    "err_train, err_val = learningCurve(X, y, X_val, y_val, 0)"
   ]
  },
  {
   "cell_type": "code",
   "execution_count": 14,
   "metadata": {
    "collapsed": false
   },
   "outputs": [
    {
     "data": {
      "image/png": "[encoded data removed]",
      "text/plain": [
       "<matplotlib.figure.Figure at 0x1146c49b0>"
      ]
     },
     "metadata": {},
     "output_type": "display_data"
    }
   ],
   "source": [
    "plt.figure()\n",
    "plt.title('Learning curve for linear regression')\n",
    "plt.ylim([0, 100])\n",
    "plt.ylabel('Error')\n",
    "plt.xlabel('Number of training examples')\n",
    "plt.plot(np.arange(len(err_train)), err_train, 'y-', label='Train')\n",
    "plt.plot(np.arange(len(err_val)), err_val, 'g-', label='Validation')\n",
    "plt.legend(bbox_to_anchor=(1.05, 1), loc=2, borderaxespad=0.)\n",
    "plt.show()"
   ]
  },
  {
   "cell_type": "markdown",
   "metadata": {
    "collapsed": true
   },
   "source": [
    "### Polynomial regression"
   ]
  },
  {
   "cell_type": "code",
   "execution_count": 15,
   "metadata": {
    "collapsed": true
   },
   "outputs": [],
   "source": [
    "def polyFeatures(X, p):\n",
    "    X_poly = np.zeros((X.shape[0], p))\n",
    "    for i in range(0, p):\n",
    "        X_poly[:, i] = X ** (i + 1)\n",
    "    return X_poly"
   ]
  },
  {
   "cell_type": "code",
   "execution_count": 16,
   "metadata": {
    "collapsed": false
   },
   "outputs": [],
   "source": [
    "def featureNormalize(X):\n",
    "    mu = np.mean(X, 0)\n",
    "    sigma = np.std(X, 0)\n",
    "    X_norm = (X - mu) / sigma\n",
    "    return X_norm, mu, sigma"
   ]
  },
  {
   "cell_type": "code",
   "execution_count": 17,
   "metadata": {
    "collapsed": false
   },
   "outputs": [],
   "source": [
    "X_poly8 = polyFeatures(X['water_flow'], 8)\n",
    "X_poly8_norm, mu_train, sigma_train = featureNormalize(X_poly8)\n",
    "X_poly8_norm = np.concatenate((np.ones((X_poly8_norm.shape[0], 1)), X_poly8_norm), axis=1)\n",
    "\n",
    "X_val_poly8 = polyFeatures(X_val['water_flow'], 8)\n",
    "X_val_poly8_norm = (X_val_poly8 - mu_train) / sigma_train\n",
    "X_val_poly8_norm = np.concatenate((np.ones((X_val_poly8_norm.shape[0], 1)), X_val_poly8_norm), axis=1)\n",
    "\n",
    "X_test_poly8 = polyFeatures(X_test['water_flow'], 8)\n",
    "X_test_poly8_norm = (X_test_poly8 - mu_train) / sigma_train\n",
    "X_test_poly8_norm = np.concatenate((np.ones((X_test_poly8_norm.shape[0], 1)), X_test_poly8_norm), axis=1)"
   ]
  },
  {
   "cell_type": "code",
   "execution_count": 18,
   "metadata": {
    "collapsed": false
   },
   "outputs": [
    {
     "name": "stdout",
     "output_type": "stream",
     "text": [
      "Warning: Maximum number of iterations has been exceeded.\n",
      "         Current function value: 0.103830\n",
      "         Iterations: 50\n",
      "         Function evaluations: 51\n",
      "         Gradient evaluations: 51\n"
     ]
    },
    {
     "data": {
      "image/png": "[encoded data removed]",
      "text/plain": [
       "<matplotlib.figure.Figure at 0x11714ee10>"
      ]
     },
     "metadata": {},
     "output_type": "display_data"
    }
   ],
   "source": [
    "opt_poly_theta = trainLinearReg(X_poly8_norm, y, 0)\n",
    "plt.figure()\n",
    "plt.xlim([-60, 60])\n",
    "plt.ylim([-30, 70])\n",
    "plt.xlabel('Change in water level (x)')\n",
    "plt.ylabel('Water flowing out of the dam (y)')\n",
    "plt.plot(X['water_flow'].values, y['water_level'].values, 'rx')\n",
    "\n",
    "fit_range = np.arange(np.min(X['water_flow'].values) - 10, np.max(X['water_flow'].values) + 10, 0.5)\n",
    "fit_range_poly8_norm = (polyFeatures(fit_range, 8) - mu_train) / sigma_train\n",
    "fit_range_poly8_norm = np.concatenate((np.ones((fit_range_poly8_norm.shape[0], 1)), fit_range_poly8_norm), axis=1)\n",
    "plt.plot(fit_range.flatten(), np.dot(fit_range_poly8_norm, opt_poly_theta), '-')\n",
    "\n",
    "plt.show()"
   ]
  },
  {
   "cell_type": "code",
   "execution_count": 19,
   "metadata": {
    "collapsed": false
   },
   "outputs": [
    {
     "name": "stdout",
     "output_type": "stream",
     "text": [
      "Warning: Desired error not necessarily achieved due to precision loss.\n",
      "         Current function value: nan\n",
      "         Iterations: 0\n",
      "         Function evaluations: 1\n",
      "         Gradient evaluations: 1\n",
      "Optimization terminated successfully.\n",
      "         Current function value: 0.000000\n",
      "         Iterations: 2\n",
      "         Function evaluations: 3\n",
      "         Gradient evaluations: 3\n",
      "Optimization terminated successfully.\n",
      "         Current function value: 0.000000\n",
      "         Iterations: 7\n",
      "         Function evaluations: 8\n",
      "         Gradient evaluations: 8\n",
      "Optimization terminated successfully.\n",
      "         Current function value: 0.000000\n",
      "         Iterations: 6\n",
      "         Function evaluations: 8\n",
      "         Gradient evaluations: 8\n",
      "Optimization terminated successfully.\n",
      "         Current function value: 0.000000\n",
      "         Iterations: 13\n",
      "         Function evaluations: 17\n",
      "         Gradient evaluations: 17\n",
      "Optimization terminated successfully.\n",
      "         Current function value: 0.000000\n",
      "         Iterations: 23\n",
      "         Function evaluations: 24\n",
      "         Gradient evaluations: 24\n",
      "Optimization terminated successfully.\n",
      "         Current function value: 0.000000\n",
      "         Iterations: 36\n",
      "         Function evaluations: 37\n",
      "         Gradient evaluations: 37\n",
      "Optimization terminated successfully.\n",
      "         Current function value: 0.000000\n",
      "         Iterations: 46\n",
      "         Function evaluations: 47\n",
      "         Gradient evaluations: 47\n",
      "Warning: Maximum number of iterations has been exceeded.\n",
      "         Current function value: 0.068314\n",
      "         Iterations: 50\n",
      "         Function evaluations: 51\n",
      "         Gradient evaluations: 51\n",
      "Warning: Maximum number of iterations has been exceeded.\n",
      "         Current function value: 0.144865\n",
      "         Iterations: 50\n",
      "         Function evaluations: 51\n",
      "         Gradient evaluations: 51\n",
      "Warning: Maximum number of iterations has been exceeded.\n",
      "         Current function value: 0.122182\n",
      "         Iterations: 50\n",
      "         Function evaluations: 51\n",
      "         Gradient evaluations: 51\n",
      "Warning: Maximum number of iterations has been exceeded.\n",
      "         Current function value: 0.129876\n",
      "         Iterations: 50\n",
      "         Function evaluations: 51\n",
      "         Gradient evaluations: 51\n"
     ]
    },
    {
     "data": {
      "image/png": "[encoded data removed]",
      "text/plain": [
       "<matplotlib.figure.Figure at 0x11714ea20>"
      ]
     },
     "metadata": {},
     "output_type": "display_data"
    }
   ],
   "source": [
    "err_train, err_val = learningCurve(X_poly8_norm, y, X_val_poly8_norm, y_val, 0)\n",
    "\n",
    "plt.figure()\n",
    "plt.title(('Learning curve for polynomial linear regression (reg_alpha = {})').format(0))\n",
    "plt.ylim([0, 100])\n",
    "plt.ylabel('Error')\n",
    "plt.xlabel('Number of training examples')\n",
    "plt.plot(np.arange(len(err_train)), err_train, 'y-', label='Train')\n",
    "plt.plot(np.arange(len(err_val)), err_val, 'g-', label='Validation')\n",
    "plt.legend(bbox_to_anchor=(1.05, 1), loc=2, borderaxespad=0.)\n",
    "plt.show()"
   ]
  },
  {
   "cell_type": "markdown",
   "metadata": {
    "collapsed": true
   },
   "source": [
    "### Validation for selecting best lambda"
   ]
  },
  {
   "cell_type": "code",
   "execution_count": 47,
   "metadata": {
    "collapsed": true
   },
   "outputs": [],
   "source": [
    "def validationCurve(X, y, X_val, y_val):\n",
    "    lmbda_vec = [0, 0.001, 0.003, 0.01, 0.03, 0.1, 0.3, 1, 3, 10]\n",
    "    error_train = [0] * len(lmbda_vec)\n",
    "    error_val = [0] * len(lmbda_vec)\n",
    "\n",
    "    for i in range(0, len(lmbda_vec)):\n",
    "        lmbda = lmbda_vec[i]\n",
    "        theta = trainLinearReg(X, y, lmbda)\n",
    "        error_train[i] = costFunction(theta, X, y, 0)\n",
    "        error_val[i] = costFunction(theta, X_val, y_val, 0)\n",
    "        \n",
    "    return lmbda_vec, error_train, error_val"
   ]
  },
  {
   "cell_type": "code",
   "execution_count": 48,
   "metadata": {
    "collapsed": false
   },
   "outputs": [
    {
     "name": "stdout",
     "output_type": "stream",
     "text": [
      "Warning: Maximum number of iterations has been exceeded.\n",
      "         Current function value: 0.103830\n",
      "         Iterations: 50\n",
      "         Function evaluations: 51\n",
      "         Gradient evaluations: 51\n",
      "Warning: Maximum number of iterations has been exceeded.\n",
      "         Current function value: 0.171144\n",
      "         Iterations: 50\n",
      "         Function evaluations: 51\n",
      "         Gradient evaluations: 51\n",
      "Warning: Maximum number of iterations has been exceeded.\n",
      "         Current function value: 0.243184\n",
      "         Iterations: 50\n",
      "         Function evaluations: 51\n",
      "         Gradient evaluations: 51\n",
      "Optimization terminated successfully.\n",
      "         Current function value: 0.371281\n",
      "         Iterations: 49\n",
      "         Function evaluations: 50\n",
      "         Gradient evaluations: 50\n",
      "Optimization terminated successfully.\n",
      "         Current function value: 0.636700\n",
      "         Iterations: 46\n",
      "         Function evaluations: 47\n",
      "         Gradient evaluations: 47\n",
      "Optimization terminated successfully.\n",
      "         Current function value: 1.360568\n",
      "         Iterations: 39\n",
      "         Function evaluations: 40\n",
      "         Gradient evaluations: 40\n",
      "Optimization terminated successfully.\n",
      "         Current function value: 2.917644\n",
      "         Iterations: 26\n",
      "         Function evaluations: 27\n",
      "         Gradient evaluations: 27\n",
      "Optimization terminated successfully.\n",
      "         Current function value: 6.830458\n",
      "         Iterations: 21\n",
      "         Function evaluations: 22\n",
      "         Gradient evaluations: 22\n",
      "Optimization terminated successfully.\n",
      "         Current function value: 14.937642\n",
      "         Iterations: 15\n",
      "         Function evaluations: 16\n",
      "         Gradient evaluations: 16\n",
      "Optimization terminated successfully.\n",
      "         Current function value: 31.878147\n",
      "         Iterations: 8\n",
      "         Function evaluations: 9\n",
      "         Gradient evaluations: 9\n",
      "Lambda     Train Error    Validation Error\n",
      "0.0000    0.1038    9.7381\n",
      "0.0010    0.1105    8.4768\n",
      "0.0030    0.1663    15.7921\n",
      "0.0100    0.2180    17.1487\n",
      "0.0300    0.2751    13.2154\n",
      "0.1000    0.4387    7.9265\n",
      "0.3000    0.8682    4.7609\n",
      "1.0000    1.9587    4.2634\n",
      "3.0000    4.5251    3.8322\n",
      "10.0000    14.8258    8.8897\n"
     ]
    }
   ],
   "source": [
    "lmbda_vec, error_train, error_val = validationCurve(X_poly8_norm, y, X_val_poly8_norm, y_val)\n",
    "\n",
    "print('Lambda     Train Error    Validation Error')\n",
    "for i in range(len(lmbda_vec)):\n",
    "    print('{:.4f}    {:.4f}    {:.4f}'.format(lmbda_vec[i], error_train[i], error_val[i]))"
   ]
  },
  {
   "cell_type": "code",
   "execution_count": null,
   "metadata": {
    "collapsed": true
   },
   "outputs": [],
   "source": [
    "plt.figure()\n",
    "plt.ylim([0, 20])\n",
    "plt.ylabel('Error')\n",
    "plt.xlabel('Lambda')\n",
    "plt.plot(lmbda_vec, error_train, 'y-', label='Train')\n",
    "plt.plot(lmbda_vec, error_val, 'g-', label='Validation')\n",
    "plt.legend(bbox_to_anchor=(1.05, 1), loc=2, borderaxespad=0.)\n",
    "plt.show()"
   ]
  },
  {
   "cell_type": "markdown",
   "metadata": {},
   "source": [
    "Best lambda: 3"
   ]
  },
  {
   "cell_type": "code",
   "execution_count": 53,
   "metadata": {
    "collapsed": false
   },
   "outputs": [
    {
     "name": "stdout",
     "output_type": "stream",
     "text": [
      "Optimization terminated successfully.\n",
      "         Current function value: 14.937642\n",
      "         Iterations: 15\n",
      "         Function evaluations: 16\n",
      "         Gradient evaluations: 16\n",
      "Best theta:\n",
      "[ 11.21760842   6.5220858    3.82487288   3.61985586   2.18396111\n",
      "   2.10604649   1.28077895   1.28789837   0.72492992]\n",
      "\n",
      "Final model test error: 4.5251\n"
     ]
    }
   ],
   "source": [
    "opt_theta = trainLinearReg(X_poly8_norm, y, 3)\n",
    "error_test = costFunction(opt_theta, X_poly8_norm, y, 0)\n",
    "print('Best theta:')\n",
    "print(opt_theta)\n",
    "\n",
    "print('\\nFinal model test error: {:.4f}'.format(error_test))"
   ]
  },
  {
   "cell_type": "code",
   "execution_count": null,
   "metadata": {
    "collapsed": true
   },
   "outputs": [],
   "source": []
  }
 ],
 "metadata": {
  "anaconda-cloud": {},
  "kernelspec": {
   "display_name": "Python [default]",
   "language": "python",
   "name": "python3"
  },
  "language_info": {
   "codemirror_mode": {
    "name": "ipython",
    "version": 3
   },
   "file_extension": ".py",
   "mimetype": "text/x-python",
   "name": "python",
   "nbconvert_exporter": "python",
   "pygments_lexer": "ipython3",
   "version": "3.5.2"
  }
 },
 "nbformat": 4,
 "nbformat_minor": 1
}
